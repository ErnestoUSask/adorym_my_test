{
  "cells": [
    {
      "cell_type": "markdown",
      "id": "18fa5128b19a4ff8b1d4ab5d107440d6",
      "metadata": {},
      "source": [
        "# Wave Propagation Toolkit\n",
        "\n",
        "This notebook demonstrates how to simulate coherent wave propagation without installing the full **adorym** package. It re-implements the minimal propagation utilities (`get_kernel` and `fresnel_propagate`) and applies them to a workflow that loads an initial wavefront, propagates it, interacts with a 3D object, and visualizes the resulting complex fields."
      ]
    },
    {
      "cell_type": "markdown",
      "id": "1b36bc352841450e84c8fda718505a3a",
      "metadata": {},
      "source": [
        "## Contents\n",
        "\n",
        "1. Helper utilities and propagation functions\n",
        "2. Load the initial wave (magnitude & optional phase)\n",
        "3. Propagate the source wave to an intermediate plane\n",
        "4. Build a projected transmission function from a 3D refractive index volume\n",
        "5. Form the exit wave, propagate to the detector, and visualize\n",
        "6. Multislice propagation through the 3D object\n",
        "\n",
        "Every section is executable on its own once you provide the required input files."
      ]
    },
    {
      "cell_type": "code",
      "id": "15f80d8ca6774056b0b03a2e89f1d0f3",
      "metadata": {},
      "execution_count": null,
      "outputs": [],
      "source": [
        "import numpy as np\n",
        "import matplotlib.pyplot as plt\n",
        "from pathlib import Path\n",
        "import tifffile as tiff\n",
        "\n",
        "np.set_printoptions(suppress=True)\n",
        "plt.rcParams.update({\"image.cmap\": \"magma\"})"
      ]
    },
    {
      "cell_type": "markdown",
      "id": "5894f500a7fc4ca490d238c8eef5fe6f",
      "metadata": {},
      "source": [
        "### Propagation helpers\n",
        "\n",
        "The functions below are the only adorym components that we need. They provide Fresnel and Fraunhofer transfer functions along with a thin wrapper that applies them to a complex wavefront."
      ]
    },
    {
      "cell_type": "code",
      "id": "29cbb31d64f34a9d840c9f05cb5d6ef8",
      "metadata": {},
      "execution_count": null,
      "outputs": [],
      "source": [
        "def _frequency_mesh(pixel_size_m, grid_shape):\n",
        "    \"\"\"Return spatial frequency meshgrids for a 2D grid.\"\"\"\n",
        "    fy = np.fft.fftfreq(grid_shape[0], d=pixel_size_m[0])\n",
        "    fx = np.fft.fftfreq(grid_shape[1], d=pixel_size_m[1])\n",
        "    return np.meshgrid(fx, fy)\n",
        "\n",
        "\n",
        "def get_kernel(distance_m, wavelength_m, pixel_size_m, grid_shape,\n",
        "               fresnel_approx=True, sign_convention=1):\n",
        "    r\"\"\"Return the Fourier-domain propagation kernel.\n",
        "\n",
        "    Parameters\n",
        "    ----------\n",
        "    distance_m : float\n",
        "        Propagation distance in metres.\n",
        "    wavelength_m : float\n",
        "        Wavelength in metres.\n",
        "    pixel_size_m : tuple of float\n",
        "        Detector pixel size along (y, x) in metres.\n",
        "    grid_shape : tuple of int\n",
        "        Size of the 2D field (ny, nx).\n",
        "    fresnel_approx : bool, optional\n",
        "        If True use the Fresnel approximation, otherwise Fraunhofer.\n",
        "    sign_convention : {1, -1}, optional\n",
        "        Choose ``1`` for :math:`exp(ikz)` or ``-1`` for :math:`exp(-ikz)`.\n",
        "    \"\"\"\n",
        "    fx, fy = _frequency_mesh(pixel_size_m, grid_shape)\n",
        "    quad = fx**2 + fy**2\n",
        "    if fresnel_approx:\n",
        "        phase = -sign_convention * np.pi * wavelength_m * distance_m * quad\n",
        "        return np.exp(1j * phase)\n",
        "\n",
        "    spectral_radius = 1 - (wavelength_m**2) * quad\n",
        "    kernel = np.zeros_like(fx, dtype=np.complex128)\n",
        "    mask = spectral_radius > 0\n",
        "    kernel[mask] = np.exp(sign_convention * 1j * 2 * np.pi * distance_m / wavelength_m *\n",
        "                          np.sqrt(spectral_radius[mask]))\n",
        "    return kernel\n",
        "\n",
        "\n",
        "def fresnel_propagate(field, distance_m, wavelength_m, pixel_size_m,\n",
        "                      mode=\"fresnel\", sign_convention=1):\n",
        "    \"\"\"Propagate ``field`` over ``distance_m`` using FFT-based convolution.\"\"\"\n",
        "    fresnel_approx = mode.lower() != \"fraunhofer\"\n",
        "    kernel = get_kernel(distance_m, wavelength_m, pixel_size_m, field.shape,\n",
        "                        fresnel_approx=fresnel_approx, sign_convention=sign_convention)\n",
        "    field_ft = np.fft.fft2(field)\n",
        "    propagated = np.fft.ifft2(field_ft * kernel)\n",
        "    return propagated"
      ]
    },
    {
      "cell_type": "markdown",
      "id": "1fd6f88beeb44798b4ed6dc26ff8bb70",
      "metadata": {},
      "source": [
        "### General utilities"
      ]
    },
    {
      "cell_type": "code",
      "id": "374b5699510b4520a8f078c0b2c2b19a",
      "metadata": {},
      "execution_count": null,
      "outputs": [],
      "source": [
        "def load_initial_wave(magnitude_path, phase_path=None):\n",
        "    \"\"\"Load magnitude and (optional) phase TIFF files and build a complex wave.\"\"\"\n",
        "    magnitude = tiff.imread(magnitude_path).astype(np.float64)\n",
        "    if phase_path is not None and Path(phase_path).exists():\n",
        "        phase = tiff.imread(phase_path).astype(np.float64)\n",
        "    else:\n",
        "        phase = np.zeros_like(magnitude)\n",
        "    return magnitude * np.exp(1j * phase)\n",
        "\n",
        "\n",
        "def project_transmission(n_volume, wavelength_m, voxel_size_z_m):\n",
        "    \"\"\"Collapse ``n = delta + i beta`` volume to a 2D transmission function.\"\"\"\n",
        "    delta = np.real(n_volume)\n",
        "    beta = np.imag(n_volume)\n",
        "    k = 2 * np.pi / wavelength_m\n",
        "    phase = -k * voxel_size_z_m * np.sum(delta, axis=0)\n",
        "    absorption = -k * voxel_size_z_m * np.sum(beta, axis=0)\n",
        "    transmission = np.exp(absorption + 1j * phase)\n",
        "    return transmission\n",
        "\n",
        "\n",
        "def slice_transmission(n_slice, wavelength_m, voxel_size_z_m):\n",
        "    \"\"\"Transmission for a single slice of ``delta + i beta``.\"\"\"\n",
        "    delta = np.real(n_slice)\n",
        "    beta = np.imag(n_slice)\n",
        "    k = 2 * np.pi / wavelength_m\n",
        "    phase = -k * voxel_size_z_m * delta\n",
        "    absorption = -k * voxel_size_z_m * beta\n",
        "    return np.exp(absorption + 1j * phase)\n",
        "\n",
        "\n",
        "def pad_or_crop_to_shape(array, target_shape):\n",
        "    \"\"\"Pad (or crop) ``array`` to ``target_shape`` centred.\"\"\"\n",
        "    padded = array\n",
        "    for axis, target in enumerate(target_shape):\n",
        "        current = padded.shape[axis]\n",
        "        if current == target:\n",
        "            continue\n",
        "        if current < target:\n",
        "            pad_before = (target - current) // 2\n",
        "            pad_after = target - current - pad_before\n",
        "            pad_width = [(0, 0)] * padded.ndim\n",
        "            pad_width[axis] = (pad_before, pad_after)\n",
        "            padded = np.pad(padded, pad_width, mode=\"constant\")\n",
        "        else:\n",
        "            start = (current - target) // 2\n",
        "            end = start + target\n",
        "            slices = [slice(None)] * padded.ndim\n",
        "            slices[axis] = slice(start, end)\n",
        "            padded = padded[tuple(slices)]\n",
        "    return padded\n",
        "\n",
        "\n",
        "def show_amplitude_phase(field, title_prefix, extent=None):\n",
        "    amplitude = np.abs(field)\n",
        "    phase = np.angle(field)\n",
        "    fig, axes = plt.subplots(1, 2, figsize=(10, 4))\n",
        "    ax = axes[0]\n",
        "    im0 = ax.imshow(amplitude, extent=extent)\n",
        "    ax.set_title(f\"{title_prefix} amplitude\")\n",
        "    fig.colorbar(im0, ax=ax, shrink=0.8)\n",
        "    ax = axes[1]\n",
        "    im1 = ax.imshow(phase, extent=extent)\n",
        "    ax.set_title(f\"{title_prefix} phase\")\n",
        "    fig.colorbar(im1, ax=ax, shrink=0.8)\n",
        "    plt.tight_layout()\n",
        "    plt.show()\n",
        "\n",
        "\n",
        "def show_intensity(field, title, extent=None):\n",
        "    intensity = np.abs(field) ** 2\n",
        "    plt.figure(figsize=(5, 4))\n",
        "    plt.imshow(intensity, extent=extent)\n",
        "    plt.colorbar(shrink=0.8)\n",
        "    plt.title(title)\n",
        "    plt.tight_layout()\n",
        "    plt.show()\n",
        "\n",
        "\n",
        "def hc_over_e():\n",
        "    \"\"\"Return hc in eV*m.\"\"\"\n",
        "    return 1.239841984e-6"
      ]
    },
    {
      "cell_type": "markdown",
      "id": "44b24859d375428a837bd19aaaf0b6c3",
      "metadata": {},
      "source": [
        "## 1. Input configuration\n",
        "\n",
        "Update the paths and experimental parameters in this cell. If the specified files are not found a synthetic example is generated so the notebook can still be executed."
      ]
    },
    {
      "cell_type": "code",
      "id": "61ae3e76251b45379c414b25ce8fc83d",
      "metadata": {},
      "execution_count": null,
      "outputs": [],
      "source": [
        "# ---------------------------------------------------------------------------\n",
        "# File paths (update to your data)\n",
        "# ---------------------------------------------------------------------------\n",
        "magnitude_path = Path(\"data/source_magnitude.tif\")\n",
        "phase_path = None  # e.g. Path(\"data/source_phase.tif\")\n",
        "volume_path = Path(\"data/object_volume.npy\")  # numpy file storing complex delta + i*beta\n",
        "\n",
        "# ---------------------------------------------------------------------------\n",
        "# Experiment parameters\n",
        "# ---------------------------------------------------------------------------\n",
        "energy_ev = 8000.0  # photon energy in eV\n",
        "wavelength_m = hc_over_e() / energy_ev\n",
        "pixel_size_m = (25e-9, 25e-9)  # (dy, dx) pixel size at the wavefront plane\n",
        "source_sample_distance_m = 0.02  # distance from source to sample\n",
        "sample_detector_distance_m = 0.5  # distance from sample to detector\n",
        "voxel_size_z_m = 50e-9           # object voxel size along z\n",
        "propagation_mode = \"fresnel\"     # \"fresnel\" or \"fraunhofer\""
      ]
    },
    {
      "cell_type": "markdown",
      "id": "3830409033254558a375bda0f9edd411",
      "metadata": {},
      "source": [
        "## 2. Load the initial wavefront"
      ]
    },
    {
      "cell_type": "code",
      "id": "62501cec9aec4b3596d087b674045609",
      "metadata": {},
      "execution_count": null,
      "outputs": [],
      "source": [
        "if magnitude_path.exists():\n",
        "    initial_wave = load_initial_wave(magnitude_path, phase_path)\n",
        "    print(f\"Loaded magnitude from {magnitude_path}\")\n",
        "else:\n",
        "    print(\"Magnitude file not found; generating a synthetic Gaussian beam.\")\n",
        "    grid_y, grid_x = 512, 512\n",
        "    y = np.linspace(-1, 1, grid_y)\n",
        "    x = np.linspace(-1, 1, grid_x)\n",
        "    xx, yy = np.meshgrid(x, y)\n",
        "    magnitude = np.exp(-((xx**2 + yy**2) / 0.1))\n",
        "    phase = np.pi * (xx**2 - yy**2)\n",
        "    initial_wave = magnitude * np.exp(1j * phase)\n",
        "\n",
        "show_amplitude_phase(initial_wave, \"Initial wave\")"
      ]
    },
    {
      "cell_type": "markdown",
      "id": "8c0782ae5a8e4bb1b8c7a37d7839085a",
      "metadata": {},
      "source": [
        "## 3. Propagate the source wave"
      ]
    },
    {
      "cell_type": "code",
      "id": "ed504ba5419c4157aaf4f1de63a1450f",
      "metadata": {},
      "execution_count": null,
      "outputs": [],
      "source": [
        "propagated_wave = fresnel_propagate(initial_wave, source_sample_distance_m,\n",
        "                                     wavelength_m, pixel_size_m,\n",
        "                                     mode=propagation_mode)\n",
        "\n",
        "show_amplitude_phase(initial_wave, \"Source plane\")\n",
        "show_amplitude_phase(propagated_wave, f\"After {source_sample_distance_m:.3f} m\")"
      ]
    },
    {
      "cell_type": "markdown",
      "id": "4d2a56e322d84b169a3799999fa85c41",
      "metadata": {},
      "source": [
        "## 4. Build the transmission function from a 3D refractive index volume"
      ]
    },
    {
      "cell_type": "code",
      "id": "1e0797f0731b446f93eb977618c50d5a",
      "metadata": {},
      "execution_count": null,
      "outputs": [],
      "source": [
        "if volume_path.exists():\n",
        "    n_volume = np.load(volume_path)\n",
        "    print(f\"Loaded volume from {volume_path}\")\n",
        "else:\n",
        "    print(\"Volume file not found; generating a synthetic object (phase grating).\")\n",
        "    nz, ny, nx = 64, initial_wave.shape[0] // 2, initial_wave.shape[1] // 2\n",
        "    y = np.linspace(-1, 1, ny)\n",
        "    x = np.linspace(-1, 1, nx)\n",
        "    xx, yy = np.meshgrid(x, y)\n",
        "    delta = 5e-6 * np.exp(-((xx**2 + yy**2) / 0.2))\n",
        "    beta = 2e-7 * (1 + 0.5 * np.sin(10 * xx))\n",
        "    n_slice = delta + 1j * beta\n",
        "    n_volume = np.stack([n_slice for _ in range(nz)], axis=0)\n",
        "\n",
        "transmission = project_transmission(n_volume, wavelength_m, voxel_size_z_m)\n",
        "transmission = pad_or_crop_to_shape(transmission, initial_wave.shape)\n",
        "show_amplitude_phase(transmission, \"Transmission (projected)\")"
      ]
    },
    {
      "cell_type": "markdown",
      "id": "6ba9859a646c480686c80ed53777a06c",
      "metadata": {},
      "source": [
        "## 5. Exit wave and detector plane"
      ]
    },
    {
      "cell_type": "code",
      "id": "fc61fbe68d264ae2b80f9d722129db3c",
      "metadata": {},
      "execution_count": null,
      "outputs": [],
      "source": [
        "exit_wave = propagated_wave * transmission\n",
        "wave_at_detector = fresnel_propagate(exit_wave, sample_detector_distance_m,\n",
        "                                     wavelength_m, pixel_size_m,\n",
        "                                     mode=propagation_mode)\n",
        "\n",
        "show_intensity(wave_at_detector, \"Detector intensity\")\n",
        "show_amplitude_phase(wave_at_detector, \"Detector wave\")"
      ]
    },
    {
      "cell_type": "markdown",
      "id": "8ff3f63f475146208b00c33021900cd7",
      "metadata": {},
      "source": [
        "## 6. Multislice propagation through the 3D object"
      ]
    },
    {
      "cell_type": "code",
      "id": "a028ff20a675487999aa9312118eee8b",
      "metadata": {},
      "execution_count": null,
      "outputs": [],
      "source": [
        "wave_multislice = propagated_wave.copy()\n",
        "for idx, n_slice in enumerate(n_volume):\n",
        "    slice_t = slice_transmission(n_slice, wavelength_m, voxel_size_z_m)\n",
        "    slice_t = pad_or_crop_to_shape(slice_t, wave_multislice.shape)\n",
        "    wave_multislice *= slice_t\n",
        "    if idx < len(n_volume) - 1:\n",
        "        wave_multislice = fresnel_propagate(wave_multislice, voxel_size_z_m,\n",
        "                                            wavelength_m, pixel_size_m,\n",
        "                                            mode=propagation_mode)\n",
        "\n",
        "wave_multislice_detector = fresnel_propagate(wave_multislice, sample_detector_distance_m,\n",
        "                                             wavelength_m, pixel_size_m,\n",
        "                                             mode=propagation_mode)\n",
        "\n",
        "show_intensity(wave_multislice_detector, \"Detector intensity (multislice)\")\n",
        "show_amplitude_phase(wave_multislice_detector, \"Detector wave (multislice)\")"
      ]
    }
  ],
  "metadata": {
    "kernelspec": {
      "display_name": "Python 3",
      "language": "python",
      "name": "python3"
    },
    "language_info": {
      "name": "python",
      "version": "3.10"
    }
  },
  "nbformat": 4,
  "nbformat_minor": 5
}